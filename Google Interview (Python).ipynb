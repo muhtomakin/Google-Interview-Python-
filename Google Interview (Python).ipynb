{
 "cells": [
  {
   "cell_type": "code",
   "execution_count": 12,
   "id": "ba668f31",
   "metadata": {},
   "outputs": [
    {
     "data": {
      "text/plain": [
       "True"
      ]
     },
     "execution_count": 12,
     "metadata": {},
     "output_type": "execute_result"
    }
   ],
   "source": [
    "#This fucntion provides to find  the target value which is 'k', if return any two numbers from the list add.\n",
    "def find(l, k, result):\n",
    "    for i in l:\n",
    "            target = k-i\n",
    "            if target in l:\n",
    "                result = True\n",
    "    return result\n",
    "            \n",
    "numbers = [10, 15, 3, 8, 7]\n",
    "k = 17\n",
    "result = False\n",
    "find(numbers, k, result)\n",
    "            "
   ]
  }
 ],
 "metadata": {
  "kernelspec": {
   "display_name": "Python 3",
   "language": "python",
   "name": "python3"
  },
  "language_info": {
   "codemirror_mode": {
    "name": "ipython",
    "version": 3
   },
   "file_extension": ".py",
   "mimetype": "text/x-python",
   "name": "python",
   "nbconvert_exporter": "python",
   "pygments_lexer": "ipython3",
   "version": "3.8.8"
  }
 },
 "nbformat": 4,
 "nbformat_minor": 5
}
